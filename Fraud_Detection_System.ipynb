{
  "nbformat": 4,
  "nbformat_minor": 0,
  "metadata": {
    "colab": {
      "provenance": []
    },
    "kernelspec": {
      "name": "python3",
      "display_name": "Python 3"
    },
    "language_info": {
      "name": "python"
    }
  },
  "cells": [
    {
      "cell_type": "code",
      "execution_count": 2,
      "metadata": {
        "colab": {
          "base_uri": "https://localhost:8080/"
        },
        "id": "Fsghb5-1rRC-",
        "outputId": "6bce1063-b4f9-48d6-ecef-b690df54aad0"
      },
      "outputs": [
        {
          "output_type": "stream",
          "name": "stdout",
          "text": [
            "Missing values in each column:\n",
            "Time      0\n",
            "V1        0\n",
            "V2        0\n",
            "V3        0\n",
            "V4        0\n",
            "V5        0\n",
            "V6        0\n",
            "V7        1\n",
            "V8        1\n",
            "V9        1\n",
            "V10       1\n",
            "V11       1\n",
            "V12       1\n",
            "V13       1\n",
            "V14       1\n",
            "V15       1\n",
            "V16       1\n",
            "V17       1\n",
            "V18       1\n",
            "V19       1\n",
            "V20       1\n",
            "V21       1\n",
            "V22       1\n",
            "V23       1\n",
            "V24       1\n",
            "V25       1\n",
            "V26       1\n",
            "V27       1\n",
            "V28       1\n",
            "Amount    1\n",
            "Class     1\n",
            "dtype: int64\n",
            "Confusion Matrix:\n",
            "[[112041   4656]\n",
            " [    35    209]]\n",
            "\n",
            "Classification Report:\n",
            "              precision    recall  f1-score   support\n",
            "\n",
            "         0.0       1.00      0.96      0.98    116697\n",
            "         1.0       0.04      0.86      0.08       244\n",
            "\n",
            "    accuracy                           0.96    116941\n",
            "   macro avg       0.52      0.91      0.53    116941\n",
            "weighted avg       1.00      0.96      0.98    116941\n",
            "\n",
            "\n",
            "Number of anomalies detected: 4865\n",
            "Number of normal points: 112076\n"
          ]
        }
      ],
      "source": [
        "import pandas as pd\n",
        "from sklearn.ensemble import IsolationForest\n",
        "from sklearn.preprocessing import StandardScaler\n",
        "from sklearn.metrics import confusion_matrix, classification_report\n",
        "\n",
        "df = pd.read_csv('creditcard.csv')\n",
        "\n",
        "print(\"Missing values in each column:\")\n",
        "print(df.isnull().sum())\n",
        "\n",
        "df.dropna(inplace=True)\n",
        "\n",
        "X = df.drop('Class', axis=1)\n",
        "y = df['Class']\n",
        "\n",
        "scaler = StandardScaler()\n",
        "X_scaled = scaler.fit_transform(X)\n",
        "\n",
        "model = IsolationForest(random_state=42, contamination='auto')\n",
        "model.fit(X_scaled)\n",
        "\n",
        "\n",
        "preds = model.predict(X_scaled)  # -1 for anomalies, 1 for normal\n",
        "df['anomaly_pred'] = preds\n",
        "df['anomaly_pred_binary'] = df['anomaly_pred'].apply(lambda x: 1 if x == -1 else 0)\n",
        "y = df['Class']\n",
        "\n",
        "print(\"Confusion Matrix:\")\n",
        "cm = confusion_matrix(y, df['anomaly_pred_binary'])\n",
        "print(cm)\n",
        "\n",
        "print(\"\\nClassification Report:\")\n",
        "print(classification_report(y, df['anomaly_pred_binary']))\n",
        "\n",
        "print(f\"\\nNumber of anomalies detected: {(preds == -1).sum()}\")\n",
        "print(f\"Number of normal points: {(preds == 1).sum()}\")"
      ]
    }
  ]
}